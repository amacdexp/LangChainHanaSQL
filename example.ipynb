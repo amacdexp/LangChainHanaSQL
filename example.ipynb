{
 "cells": [
  {
   "attachments": {},
   "cell_type": "markdown",
   "metadata": {},
   "source": [
    "# Pre-Reqs \n",
    "note: a restart of kernal may be required after installation"
   ]
  },
  {
   "cell_type": "code",
   "execution_count": null,
   "metadata": {},
   "outputs": [],
   "source": [
    "!pip -q install openai langchain hdbcli sqlalchemy-hana"
   ]
  },
  {
   "cell_type": "code",
   "execution_count": null,
   "metadata": {},
   "outputs": [],
   "source": [
    "import os\n",
    "\n",
    "os.environ['OPENAI_API_KEY'] = 'your api key here'"
   ]
  },
  {
   "attachments": {},
   "cell_type": "markdown",
   "metadata": {},
   "source": [
    "# Main"
   ]
  },
  {
   "cell_type": "code",
   "execution_count": null,
   "metadata": {},
   "outputs": [],
   "source": [
    "custom_table_info = {\n",
    "    \"zsdbillgdocitm\": \"\"\"CREATE TABLE zsdbillgdocitm (\n",
    "\tbillingdocument NVARCHAR, \n",
    "\tbillingdocumentitem NVARCHAR, \n",
    "\tsoldtoparty NVARCHAR,             # soldtoparty is also the Customer Code e.g.  00003\n",
    "\tsoldtopartyname NVARCHAR,         # soldtoparty is also the Customer Name e.g.  Mango Magic Corp\n",
    "\tsalesemployee NVARCHAR, \n",
    "\tsalesemployeename NVARCHAR, \n",
    "\tcountry NVARCHAR, \t\t\t\t  #country is the 2 digit code for a country. e.g. United Sates of America is US\n",
    "\tregion NVARCHAR, \n",
    "\tsalesorganization NVARCHAR, \n",
    "\tdistributionchannel NVARCHAR, \n",
    "\tdivision NVARCHAR, \n",
    "\tproduct NVARCHAR, \t\t\t\t  #product is also know as material and in this table are all types of fruit\n",
    "\tplant NVARCHAR, \n",
    "\tplantname NVARCHAR, \n",
    "\tbillingquantity DECIMAL(13, 3), \n",
    "\tbillingquantityunit NVARCHAR, \n",
    "\ttransactioncurrency NVARCHAR, \n",
    "\titemnetamountofbillingdoc DECIMAL(15, 2), \n",
    "\tcompanycode NVARCHAR, \n",
    "\tcompanycodename NVARCHAR, \n",
    "\tfiscalyear NVARCHAR, \n",
    "\taccountingdocument NVARCHAR, \n",
    "\tfiscalperiod NVARCHAR\n",
    ")\n",
    "\n",
    "/*\n",
    "3 rows from zsdbillgdocitm table:\n",
    "billingdocument\tbillingdocumentitem\tsoldtoparty\tsoldtopartyname\tsalesemployee\tsalesemployeename\tcountry\tregion\tsalesorganization\tdistributionchannel\tdivision\tproduct\tplant\tplantname\tbillingquantity\tbillingquantityunit\ttransactioncurrency\titemnetamountofbillingdoc\tcompanycode\tcompanycodename\tfiscalyear\taccountingdocument\tfiscalperiod\n",
    "0010639671\t000006\t8007\tMango Magic Corp.\t00003\tJuliet\tUS\tNA\tUS02\t09\t39\tBanana\tPL32\tPlantName780564\t644.979\tKG\tUSD\t8268.04\tUS02\tCompanyCodeName548721\t2023\t0020000033\t004\n",
    "0010503266\t000002\t8002\tApple Haven Corp.\t00004\tOthello\tUS\tNA\tUS02\t04\t79\tBanana\tPL42\tPlantName586960\t179.979\tKG\tUSD\t7902.19\tUS02\tCompanyCodeName55759\t2023\t0020000057\t004\n",
    "0010704945\t000005\t8008\tTempting Fruit Co.\t00004\tOthello\tUS\tNA\tUS02\t99\t25\tBanana\tPL65\tPlantName175968\t169.48\tKG\tUSD\t315.08\tUS02\tCompanyCodeName954840\t2023\t0020000012\t004\n",
    "*/\"\"\"\n",
    "}"
   ]
  },
  {
   "cell_type": "code",
   "execution_count": null,
   "metadata": {},
   "outputs": [],
   "source": [
    "from langchain import OpenAI, SQLDatabase, SQLDatabaseChain\n",
    "\n",
    "#Sql lite\n",
    "#db = SQLDatabase.from_uri(\"sqlite:///<your db>.db\")  #Local\n",
    "\n",
    "## Hana Cloud\n",
    "db = SQLDatabase.from_uri(\"hana://<username>:<password>@<host>:<port>\",\n",
    "                          include_tables=['ZSDBILLGDOCITM'.lower()],\n",
    "                          sample_rows_in_table_info=3,\n",
    "                          custom_table_info=custom_table_info\n",
    "                          )  \n",
    "\n",
    "llm = OpenAI(temperature=0, verbose=True)\n",
    "db_chain = SQLDatabaseChain.from_llm(llm, db, verbose=True, return_direct=True)  "
   ]
  },
  {
   "cell_type": "code",
   "execution_count": null,
   "metadata": {},
   "outputs": [],
   "source": [
    "from langchain.prompts.prompt import PromptTemplate\n",
    "\n",
    "_DEFAULT_TEMPLATE = \"\"\"Given an input question, first create a syntactically correct {dialect} query to run, then look at the results of the query and return the answer.\n",
    "\n",
    "Use the following format:\n",
    "\n",
    "Question: \"Question here\"\n",
    "SQLQuery: \"SQL Query to run\"\n",
    "SQLResult: \"Result of the SQLQuery\"\n",
    "Answer: \"Final answer here\"\n",
    "\n",
    "Only use the following tables:\n",
    "\n",
    "{table_info}\n",
    "\n",
    "If someone asks for :\n",
    "1) a Forecast you should instead tell them that info is not availble , you can run the SQL 'Select 'N/A' from dummy'\n",
    "\n",
    "Question: {input}\"\"\"\n",
    "PROMPT = PromptTemplate(\n",
    "    input_variables=[\"input\", \"table_info\", \"dialect\"], template=_DEFAULT_TEMPLATE\n",
    ")\n"
   ]
  },
  {
   "cell_type": "code",
   "execution_count": null,
   "metadata": {},
   "outputs": [],
   "source": [
    "db_chain = SQLDatabaseChain.from_llm(llm, db, prompt=PROMPT, verbose=True, return_intermediate_steps=True, top_k=10 )"
   ]
  },
  {
   "cell_type": "code",
   "execution_count": null,
   "metadata": {},
   "outputs": [],
   "source": [
    "question = \"Which was our best selling product in Austrlia during January?\"\n",
    "\n",
    "result = db_chain(question)\n",
    "#result[\"intermediate_steps\"]\n",
    "\n",
    "print(result)"
   ]
  }
 ],
 "metadata": {
  "language_info": {
   "name": "python"
  },
  "orig_nbformat": 4
 },
 "nbformat": 4,
 "nbformat_minor": 2
}
